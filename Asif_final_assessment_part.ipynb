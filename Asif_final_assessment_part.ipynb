{
  "nbformat": 4,
  "nbformat_minor": 0,
  "metadata": {
    "colab": {
      "provenance": [],
      "authorship_tag": "ABX9TyOx7nv4EEAAYDmk5cK0hMP/",
      "include_colab_link": true
    },
    "kernelspec": {
      "name": "python3",
      "display_name": "Python 3"
    },
    "language_info": {
      "name": "python"
    }
  },
  "cells": [
    {
      "cell_type": "markdown",
      "metadata": {
        "id": "view-in-github",
        "colab_type": "text"
      },
      "source": [
        "<a href=\"https://colab.research.google.com/github/Shaown52774/Final_Assignment_Foundation_of_Data_Science/blob/Asif/Asif_final_assessment_part.ipynb\" target=\"_parent\"><img src=\"https://colab.research.google.com/assets/colab-badge.svg\" alt=\"Open In Colab\"/></a>"
      ]
    },
    {
      "cell_type": "code",
      "execution_count": null,
      "metadata": {
        "id": "Q1ul8Fc09Y-W"
      },
      "outputs": [],
      "source": [
        "# 8. Visualisations\n",
        "sns.histplot(merged['bat_landing_to_food'],kde=True,color='teal')\n",
        "plt.title('Distribution of Bat Landing to Food'); plt.show()\n",
        "sns.boxplot(data=merged,x='season',y='bat_landing_to_food'); plt.show()\n",
        "sns.heatmap(merged.select_dtypes(float).corr(),annot=True,cmap='coolwarm'); plt.title('Correlation Heatmap'); plt.show()\n",
        "\n",
        "# 9. Hypothesis testing\n",
        "risk_rat=merged.loc[merged['rat_present']==1,'risk']; risk_norat=merged.loc[merged['rat_present']==0,'risk']\n",
        "print(f\"T-test Risk~Rat Presence p={stats.ttest_ind(risk_rat,risk_norat,nan_policy='omit').pvalue:.4f}\")\n",
        "# Chi-square for season vs risk\n",
        "ct=pd.crosstab(merged['season'],merged['risk']); chi2,p,_,_=stats.chi2_contingency(ct)\n",
        "print(f\"Chi-square Season vs Risk p={p:.4f}\")\n",
        "\n",
        "#  10. Regression analyses\n",
        "\n",
        "#Building Formula\n",
        "logit_formula = 'risk ~ rat_present + seconds_after_rat_arrival + C(season)'\n",
        "if 'hours_after_sunset' in merged.columns:\n",
        "    logit_formula = 'risk ~ rat_present + seconds_after_rat_arrival + hours_after_sunset + C(season)'\n",
        "\n",
        "ols_formula = 'bat_landing_to_food ~ rat_present + rat_minutes + C(season)'\n",
        "if 'hours_after_sunset' in merged.columns:\n",
        "    ols_formula = 'bat_landing_to_food ~ rat_present + rat_minutes + hours_after_sunset + C(season)'\n",
        "\n",
        "# Fit logistic and linear models\n",
        "logit = smf.logit(logit_formula, data=merged).fit(disp=False)\n",
        "print(\"\\nLogistic Regression Summary:\\n\", logit.summary())\n",
        "\n",
        "ols = smf.ols(ols_formula, data=merged).fit()\n",
        "print(\"\\nOLS Regression Summary:\\n\", ols.summary())\n",
        "\n",
        "# === Residual diagnostics & RMSE ===\n",
        "plt.scatter(ols.fittedvalues, ols.resid, alpha=0.6)\n",
        "plt.axhline(0, color='red', linestyle='--')\n",
        "plt.title('Residual Plot')\n",
        "plt.xlabel('Fitted Values')\n",
        "plt.ylabel('Residuals')\n",
        "plt.tight_layout()\n",
        "plt.show()\n",
        "\n",
        "# RMSE calculation\n",
        "rmse = np.sqrt(mean_squared_error(ols.model.endog, ols.fittedvalues))\n",
        "print(f\"RMSE = {rmse:.3f}\")\n",
        "\n",
        "# === Multicollinearity (VIF) ===\n",
        "X = ols.model.exog\n",
        "vif = pd.DataFrame({\n",
        "    'Variable': ols.model.exog_names,\n",
        "    'VIF': [variance_inflation_factor(X, i) for i in range(X.shape[1])]\n",
        "})\n",
        "print(\"\\nVIF Table:\\n\", vif)\n"
      ]
    }
  ]
}